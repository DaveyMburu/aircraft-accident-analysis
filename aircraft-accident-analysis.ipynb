{
 "cells": [
  {
   "cell_type": "markdown",
   "metadata": {},
   "source": [
    "# Aircraft Accident Analysis\n",
    "\n",
    "Author: David Mburu\n"
   ]
  },
  {
   "cell_type": "markdown",
   "metadata": {},
   "source": [
    "## Overview\n",
    "\n",
    "The company I work for is expanding into the aviation industry. I was tasked with identifying the lowest risk aircraft and recommend them for purchase. I used a dataset with aircraft accidents in the US to perform my analysis. I checked for airplane makes and models that are involved in a lot of accidents in the dataset in order to view the fatalities, aircraft damage versus survivals and minor injuries. This helped me to filter down to three makes and nine models with two types of engines that showed the best results."
   ]
  },
  {
   "cell_type": "markdown",
   "metadata": {},
   "source": [
    "## Business Problem\n",
    "\n",
    "The company wants to diversify its portfolio and has decided to venture into aviation. However, they know nothing about aircraft and have sought my expertise to guide them in making a decision to purchase low risk aircraft. \n",
    "\n",
    "Some analysis questions I considered were which aircraft are most involved in accidents and thereby filter from the best of them.\n",
    "\n",
    "This is because aircraft types that have had too few accidents do not have enough data to analyse to assess their viability."
   ]
  },
  {
   "cell_type": "markdown",
   "metadata": {},
   "source": [
    "## Data Understanding\n",
    "\n",
    "I used this [Aviation Accident Dataset](https://www.kaggle.com/datasets/khsamaha/aviation-accident-database-synopses) from Kaggle to perform analysis. \n",
    "\n",
    "The data represents total aircraft accidents in the United States and international waters in the past 50 years. Some variables in the dataset include the **category of aircraft**, **aircraft model**,**accident date**,**Weather conditions**,**types of injuries sustained** among others.\n",
    "\n",
    "My target variables are **aircraft categories** specifically airplanes since that is what the company wants to purchase, **model**, **make**, **injuries** and **aircraft damage**\n",
    "\n",
    "All these variables are categorical except for the injuries which are numerical."
   ]
  },
  {
   "cell_type": "code",
   "execution_count": 293,
   "metadata": {},
   "outputs": [],
   "source": [
    "#Importing libraries using their conventional aliases\n",
    "import pandas as pd\n",
    "import numpy as np\n",
    "import matplotlib.pyplot as plt\n",
    "from __init__ import explore_dataset\n",
    "%matplotlib inline"
   ]
  },
  {
   "cell_type": "code",
   "execution_count": 294,
   "metadata": {},
   "outputs": [
    {
     "name": "stderr",
     "output_type": "stream",
     "text": [
      "c:\\Users\\Davey\\anaconda3\\envs\\learn-env\\lib\\site-packages\\IPython\\core\\interactiveshell.py:3337: DtypeWarning: Columns (6,7,28) have mixed types.Specify dtype option on import or set low_memory=False.\n",
      "  if (await self.run_code(code, result,  async_=asy)):\n"
     ]
    },
    {
     "name": "stdout",
     "output_type": "stream",
     "text": [
      "----------info----------\n",
      "\n",
      "<class 'pandas.core.frame.DataFrame'>\n",
      "RangeIndex: 90348 entries, 0 to 90347\n",
      "Data columns (total 31 columns):\n",
      " #   Column                  Non-Null Count  Dtype  \n",
      "---  ------                  --------------  -----  \n",
      " 0   Event.Id                88889 non-null  object \n",
      " 1   Investigation.Type      90348 non-null  object \n",
      " 2   Accident.Number         88889 non-null  object \n",
      " 3   Event.Date              88889 non-null  object \n",
      " 4   Location                88837 non-null  object \n",
      " 5   Country                 88663 non-null  object \n",
      " 6   Latitude                34382 non-null  object \n",
      " 7   Longitude               34373 non-null  object \n",
      " 8   Airport.Code            50249 non-null  object \n",
      " 9   Airport.Name            52790 non-null  object \n",
      " 10  Injury.Severity         87889 non-null  object \n",
      " 11  Aircraft.damage         85695 non-null  object \n",
      " 12  Aircraft.Category       32287 non-null  object \n",
      " 13  Registration.Number     87572 non-null  object \n",
      " 14  Make                    88826 non-null  object \n",
      " 15  Model                   88797 non-null  object \n",
      " 16  Amateur.Built           88787 non-null  object \n",
      " 17  Number.of.Engines       82805 non-null  float64\n",
      " 18  Engine.Type             81812 non-null  object \n",
      " 19  FAR.Description         32023 non-null  object \n",
      " 20  Schedule                12582 non-null  object \n",
      " 21  Purpose.of.flight       82697 non-null  object \n",
      " 22  Air.carrier             16648 non-null  object \n",
      " 23  Total.Fatal.Injuries    77488 non-null  float64\n",
      " 24  Total.Serious.Injuries  76379 non-null  float64\n",
      " 25  Total.Minor.Injuries    76956 non-null  float64\n",
      " 26  Total.Uninjured         82977 non-null  float64\n",
      " 27  Weather.Condition       84397 non-null  object \n",
      " 28  Broad.phase.of.flight   61724 non-null  object \n",
      " 29  Report.Status           82508 non-null  object \n",
      " 30  Publication.Date        73659 non-null  object \n",
      "dtypes: float64(5), object(26)\n",
      "memory usage: 21.4+ MB\n",
      "None\n",
      "\n",
      "----------head----------\n",
      "\n",
      "         Event.Id Investigation.Type Accident.Number  Event.Date  \\\n",
      "0  20001218X45444           Accident      SEA87LA080  1948-10-24   \n",
      "1  20001218X45447           Accident      LAX94LA336  1962-07-19   \n",
      "2  20061025X01555           Accident      NYC07LA005  1974-08-30   \n",
      "3  20001218X45448           Accident      LAX96LA321  1977-06-19   \n",
      "4  20041105X01764           Accident      CHI79FA064  1979-08-02   \n",
      "\n",
      "          Location        Country Latitude Longitude Airport.Code  \\\n",
      "0  MOOSE CREEK, ID  United States      NaN       NaN          NaN   \n",
      "1   BRIDGEPORT, CA  United States      NaN       NaN          NaN   \n",
      "2    Saltville, VA  United States  36.9222  -81.8781          NaN   \n",
      "3       EUREKA, CA  United States      NaN       NaN          NaN   \n",
      "4       Canton, OH  United States      NaN       NaN          NaN   \n",
      "\n",
      "  Airport.Name  ... Purpose.of.flight Air.carrier Total.Fatal.Injuries  \\\n",
      "0          NaN  ...          Personal         NaN                  2.0   \n",
      "1          NaN  ...          Personal         NaN                  4.0   \n",
      "2          NaN  ...          Personal         NaN                  3.0   \n",
      "3          NaN  ...          Personal         NaN                  2.0   \n",
      "4          NaN  ...          Personal         NaN                  1.0   \n",
      "\n",
      "  Total.Serious.Injuries Total.Minor.Injuries Total.Uninjured  \\\n",
      "0                    0.0                  0.0             0.0   \n",
      "1                    0.0                  0.0             0.0   \n",
      "2                    NaN                  NaN             NaN   \n",
      "3                    0.0                  0.0             0.0   \n",
      "4                    2.0                  NaN             0.0   \n",
      "\n",
      "  Weather.Condition  Broad.phase.of.flight   Report.Status Publication.Date  \n",
      "0               UNK                 Cruise  Probable Cause              NaN  \n",
      "1               UNK                Unknown  Probable Cause       19-09-1996  \n",
      "2               IMC                 Cruise  Probable Cause       26-02-2007  \n",
      "3               IMC                 Cruise  Probable Cause       12-09-2000  \n",
      "4               VMC               Approach  Probable Cause       16-04-1980  \n",
      "\n",
      "[5 rows x 31 columns]\n",
      "\n",
      "----------data description----------\n",
      "\n",
      "       Number.of.Engines  Total.Fatal.Injuries  Total.Serious.Injuries  \\\n",
      "count       82805.000000          77488.000000            76379.000000   \n",
      "mean            1.146585              0.647855                0.279881   \n",
      "std             0.446510              5.485960                1.544084   \n",
      "min             0.000000              0.000000                0.000000   \n",
      "25%             1.000000              0.000000                0.000000   \n",
      "50%             1.000000              0.000000                0.000000   \n",
      "75%             1.000000              0.000000                0.000000   \n",
      "max             8.000000            349.000000              161.000000   \n",
      "\n",
      "       Total.Minor.Injuries  Total.Uninjured  \n",
      "count          76956.000000     82977.000000  \n",
      "mean               0.357061         5.325440  \n",
      "std                2.235625        27.913634  \n",
      "min                0.000000         0.000000  \n",
      "25%                0.000000         0.000000  \n",
      "50%                0.000000         1.000000  \n",
      "75%                0.000000         2.000000  \n",
      "max              380.000000       699.000000  \n"
     ]
    }
   ],
   "source": [
    "df = explore_dataset('data/aviation_data.csv')     #read the dataset using pandas and store it as a dataframe alias df"
   ]
  },
  {
   "cell_type": "markdown",
   "metadata": {},
   "source": [
    "From the warning it seems some columns do not have consistent data types, we'll fix this during the data preparation step"
   ]
  },
  {
   "cell_type": "code",
   "execution_count": 295,
   "metadata": {},
   "outputs": [],
   "source": [
    "#checking the dataset was loaded successfully\n",
    "# df.head()     "
   ]
  },
  {
   "cell_type": "code",
   "execution_count": 296,
   "metadata": {},
   "outputs": [],
   "source": [
    "# df.tail()"
   ]
  },
  {
   "cell_type": "code",
   "execution_count": 297,
   "metadata": {},
   "outputs": [],
   "source": [
    "# Getting a feel of the overall dataset\n",
    "# df.info()"
   ]
  },
  {
   "cell_type": "markdown",
   "metadata": {},
   "source": [
    "The dataset has 31 columns and about 90,000 rows. Some columns like schedule have a lot of missing data"
   ]
  },
  {
   "cell_type": "code",
   "execution_count": 298,
   "metadata": {},
   "outputs": [],
   "source": [
    "# some summary statistics about the dataset\n",
    "# df.describe()"
   ]
  },
  {
   "cell_type": "markdown",
   "metadata": {},
   "source": [
    "The dataset is asymmetric since mean and median are different values.\n",
    "\n",
    "Hence during data cleaning it would make more sense to replace missing numerical values with the median so as not to skew the mean."
   ]
  },
  {
   "cell_type": "markdown",
   "metadata": {},
   "source": [
    "## Data Preparation\n",
    "\n",
    "I dropped some columns like **schedule** which are irrelevant to my goal and some like **FAR.Description** which have too many null values.\n",
    "\n",
    "For the case of aircraft category, I did not drop the entire column despite having too many NaNs since it is important for the business problem. I instead **inferred** the correct airplane category from the makes and models.\n",
    "\n",
    "I **imputed** missing values using either median or mode in the case of numerical data and 'unknown' in the case of categorical data. Other instances I **dropped** rows and columns with too many missing values.\n",
    "\n",
    "I also converted columns with different data types into the same data type.\n",
    "\n",
    "The data contains a lot of noise hence these steps were necessary. Leaving the aircraft category was also necessary due to my stated task."
   ]
  },
  {
   "cell_type": "code",
   "execution_count": 299,
   "metadata": {},
   "outputs": [
    {
     "data": {
      "text/plain": [
       "(90348, 31)"
      ]
     },
     "execution_count": 299,
     "metadata": {},
     "output_type": "execute_result"
    }
   ],
   "source": [
    "df.shape    #Checks the initial records of dataset before changes are made. I will keep running this command after every change to see how the dataset is transforming."
   ]
  },
  {
   "cell_type": "markdown",
   "metadata": {},
   "source": [
    "### Check for duplicates"
   ]
  },
  {
   "cell_type": "code",
   "execution_count": 300,
   "metadata": {},
   "outputs": [
    {
     "data": {
      "text/plain": [
       "False    88958\n",
       "True      1390\n",
       "dtype: int64"
      ]
     },
     "execution_count": 300,
     "metadata": {},
     "output_type": "execute_result"
    }
   ],
   "source": [
    "df.duplicated().value_counts()"
   ]
  },
  {
   "cell_type": "code",
   "execution_count": 301,
   "metadata": {},
   "outputs": [
    {
     "data": {
      "text/html": [
       "<div>\n",
       "<style scoped>\n",
       "    .dataframe tbody tr th:only-of-type {\n",
       "        vertical-align: middle;\n",
       "    }\n",
       "\n",
       "    .dataframe tbody tr th {\n",
       "        vertical-align: top;\n",
       "    }\n",
       "\n",
       "    .dataframe thead th {\n",
       "        text-align: right;\n",
       "    }\n",
       "</style>\n",
       "<table border=\"1\" class=\"dataframe\">\n",
       "  <thead>\n",
       "    <tr style=\"text-align: right;\">\n",
       "      <th></th>\n",
       "      <th>Event.Id</th>\n",
       "      <th>Investigation.Type</th>\n",
       "      <th>Accident.Number</th>\n",
       "      <th>Event.Date</th>\n",
       "      <th>Location</th>\n",
       "      <th>Country</th>\n",
       "      <th>Latitude</th>\n",
       "      <th>Longitude</th>\n",
       "      <th>Airport.Code</th>\n",
       "      <th>Airport.Name</th>\n",
       "      <th>...</th>\n",
       "      <th>Purpose.of.flight</th>\n",
       "      <th>Air.carrier</th>\n",
       "      <th>Total.Fatal.Injuries</th>\n",
       "      <th>Total.Serious.Injuries</th>\n",
       "      <th>Total.Minor.Injuries</th>\n",
       "      <th>Total.Uninjured</th>\n",
       "      <th>Weather.Condition</th>\n",
       "      <th>Broad.phase.of.flight</th>\n",
       "      <th>Report.Status</th>\n",
       "      <th>Publication.Date</th>\n",
       "    </tr>\n",
       "  </thead>\n",
       "  <tbody>\n",
       "    <tr>\n",
       "      <th>64030</th>\n",
       "      <td>NaN</td>\n",
       "      <td>25-09-2020</td>\n",
       "      <td>NaN</td>\n",
       "      <td>NaN</td>\n",
       "      <td>NaN</td>\n",
       "      <td>NaN</td>\n",
       "      <td>NaN</td>\n",
       "      <td>NaN</td>\n",
       "      <td>NaN</td>\n",
       "      <td>NaN</td>\n",
       "      <td>...</td>\n",
       "      <td>NaN</td>\n",
       "      <td>NaN</td>\n",
       "      <td>NaN</td>\n",
       "      <td>NaN</td>\n",
       "      <td>NaN</td>\n",
       "      <td>NaN</td>\n",
       "      <td>NaN</td>\n",
       "      <td>NaN</td>\n",
       "      <td>NaN</td>\n",
       "      <td>NaN</td>\n",
       "    </tr>\n",
       "    <tr>\n",
       "      <th>64050</th>\n",
       "      <td>NaN</td>\n",
       "      <td>25-09-2020</td>\n",
       "      <td>NaN</td>\n",
       "      <td>NaN</td>\n",
       "      <td>NaN</td>\n",
       "      <td>NaN</td>\n",
       "      <td>NaN</td>\n",
       "      <td>NaN</td>\n",
       "      <td>NaN</td>\n",
       "      <td>NaN</td>\n",
       "      <td>...</td>\n",
       "      <td>NaN</td>\n",
       "      <td>NaN</td>\n",
       "      <td>NaN</td>\n",
       "      <td>NaN</td>\n",
       "      <td>NaN</td>\n",
       "      <td>NaN</td>\n",
       "      <td>NaN</td>\n",
       "      <td>NaN</td>\n",
       "      <td>NaN</td>\n",
       "      <td>NaN</td>\n",
       "    </tr>\n",
       "    <tr>\n",
       "      <th>64052</th>\n",
       "      <td>NaN</td>\n",
       "      <td>25-09-2020</td>\n",
       "      <td>NaN</td>\n",
       "      <td>NaN</td>\n",
       "      <td>NaN</td>\n",
       "      <td>NaN</td>\n",
       "      <td>NaN</td>\n",
       "      <td>NaN</td>\n",
       "      <td>NaN</td>\n",
       "      <td>NaN</td>\n",
       "      <td>...</td>\n",
       "      <td>NaN</td>\n",
       "      <td>NaN</td>\n",
       "      <td>NaN</td>\n",
       "      <td>NaN</td>\n",
       "      <td>NaN</td>\n",
       "      <td>NaN</td>\n",
       "      <td>NaN</td>\n",
       "      <td>NaN</td>\n",
       "      <td>NaN</td>\n",
       "      <td>NaN</td>\n",
       "    </tr>\n",
       "    <tr>\n",
       "      <th>64388</th>\n",
       "      <td>NaN</td>\n",
       "      <td>25-09-2020</td>\n",
       "      <td>NaN</td>\n",
       "      <td>NaN</td>\n",
       "      <td>NaN</td>\n",
       "      <td>NaN</td>\n",
       "      <td>NaN</td>\n",
       "      <td>NaN</td>\n",
       "      <td>NaN</td>\n",
       "      <td>NaN</td>\n",
       "      <td>...</td>\n",
       "      <td>NaN</td>\n",
       "      <td>NaN</td>\n",
       "      <td>NaN</td>\n",
       "      <td>NaN</td>\n",
       "      <td>NaN</td>\n",
       "      <td>NaN</td>\n",
       "      <td>NaN</td>\n",
       "      <td>NaN</td>\n",
       "      <td>NaN</td>\n",
       "      <td>NaN</td>\n",
       "    </tr>\n",
       "    <tr>\n",
       "      <th>64541</th>\n",
       "      <td>NaN</td>\n",
       "      <td>25-09-2020</td>\n",
       "      <td>NaN</td>\n",
       "      <td>NaN</td>\n",
       "      <td>NaN</td>\n",
       "      <td>NaN</td>\n",
       "      <td>NaN</td>\n",
       "      <td>NaN</td>\n",
       "      <td>NaN</td>\n",
       "      <td>NaN</td>\n",
       "      <td>...</td>\n",
       "      <td>NaN</td>\n",
       "      <td>NaN</td>\n",
       "      <td>NaN</td>\n",
       "      <td>NaN</td>\n",
       "      <td>NaN</td>\n",
       "      <td>NaN</td>\n",
       "      <td>NaN</td>\n",
       "      <td>NaN</td>\n",
       "      <td>NaN</td>\n",
       "      <td>NaN</td>\n",
       "    </tr>\n",
       "    <tr>\n",
       "      <th>...</th>\n",
       "      <td>...</td>\n",
       "      <td>...</td>\n",
       "      <td>...</td>\n",
       "      <td>...</td>\n",
       "      <td>...</td>\n",
       "      <td>...</td>\n",
       "      <td>...</td>\n",
       "      <td>...</td>\n",
       "      <td>...</td>\n",
       "      <td>...</td>\n",
       "      <td>...</td>\n",
       "      <td>...</td>\n",
       "      <td>...</td>\n",
       "      <td>...</td>\n",
       "      <td>...</td>\n",
       "      <td>...</td>\n",
       "      <td>...</td>\n",
       "      <td>...</td>\n",
       "      <td>...</td>\n",
       "      <td>...</td>\n",
       "      <td>...</td>\n",
       "    </tr>\n",
       "    <tr>\n",
       "      <th>90004</th>\n",
       "      <td>NaN</td>\n",
       "      <td>15-12-2022</td>\n",
       "      <td>NaN</td>\n",
       "      <td>NaN</td>\n",
       "      <td>NaN</td>\n",
       "      <td>NaN</td>\n",
       "      <td>NaN</td>\n",
       "      <td>NaN</td>\n",
       "      <td>NaN</td>\n",
       "      <td>NaN</td>\n",
       "      <td>...</td>\n",
       "      <td>NaN</td>\n",
       "      <td>NaN</td>\n",
       "      <td>NaN</td>\n",
       "      <td>NaN</td>\n",
       "      <td>NaN</td>\n",
       "      <td>NaN</td>\n",
       "      <td>NaN</td>\n",
       "      <td>NaN</td>\n",
       "      <td>NaN</td>\n",
       "      <td>NaN</td>\n",
       "    </tr>\n",
       "    <tr>\n",
       "      <th>90010</th>\n",
       "      <td>NaN</td>\n",
       "      <td>15-12-2022</td>\n",
       "      <td>NaN</td>\n",
       "      <td>NaN</td>\n",
       "      <td>NaN</td>\n",
       "      <td>NaN</td>\n",
       "      <td>NaN</td>\n",
       "      <td>NaN</td>\n",
       "      <td>NaN</td>\n",
       "      <td>NaN</td>\n",
       "      <td>...</td>\n",
       "      <td>NaN</td>\n",
       "      <td>NaN</td>\n",
       "      <td>NaN</td>\n",
       "      <td>NaN</td>\n",
       "      <td>NaN</td>\n",
       "      <td>NaN</td>\n",
       "      <td>NaN</td>\n",
       "      <td>NaN</td>\n",
       "      <td>NaN</td>\n",
       "      <td>NaN</td>\n",
       "    </tr>\n",
       "    <tr>\n",
       "      <th>90031</th>\n",
       "      <td>NaN</td>\n",
       "      <td>15-12-2022</td>\n",
       "      <td>NaN</td>\n",
       "      <td>NaN</td>\n",
       "      <td>NaN</td>\n",
       "      <td>NaN</td>\n",
       "      <td>NaN</td>\n",
       "      <td>NaN</td>\n",
       "      <td>NaN</td>\n",
       "      <td>NaN</td>\n",
       "      <td>...</td>\n",
       "      <td>NaN</td>\n",
       "      <td>NaN</td>\n",
       "      <td>NaN</td>\n",
       "      <td>NaN</td>\n",
       "      <td>NaN</td>\n",
       "      <td>NaN</td>\n",
       "      <td>NaN</td>\n",
       "      <td>NaN</td>\n",
       "      <td>NaN</td>\n",
       "      <td>NaN</td>\n",
       "    </tr>\n",
       "    <tr>\n",
       "      <th>90090</th>\n",
       "      <td>NaN</td>\n",
       "      <td>20-12-2022</td>\n",
       "      <td>NaN</td>\n",
       "      <td>NaN</td>\n",
       "      <td>NaN</td>\n",
       "      <td>NaN</td>\n",
       "      <td>NaN</td>\n",
       "      <td>NaN</td>\n",
       "      <td>NaN</td>\n",
       "      <td>NaN</td>\n",
       "      <td>...</td>\n",
       "      <td>NaN</td>\n",
       "      <td>NaN</td>\n",
       "      <td>NaN</td>\n",
       "      <td>NaN</td>\n",
       "      <td>NaN</td>\n",
       "      <td>NaN</td>\n",
       "      <td>NaN</td>\n",
       "      <td>NaN</td>\n",
       "      <td>NaN</td>\n",
       "      <td>NaN</td>\n",
       "    </tr>\n",
       "    <tr>\n",
       "      <th>90097</th>\n",
       "      <td>NaN</td>\n",
       "      <td>20-12-2022</td>\n",
       "      <td>NaN</td>\n",
       "      <td>NaN</td>\n",
       "      <td>NaN</td>\n",
       "      <td>NaN</td>\n",
       "      <td>NaN</td>\n",
       "      <td>NaN</td>\n",
       "      <td>NaN</td>\n",
       "      <td>NaN</td>\n",
       "      <td>...</td>\n",
       "      <td>NaN</td>\n",
       "      <td>NaN</td>\n",
       "      <td>NaN</td>\n",
       "      <td>NaN</td>\n",
       "      <td>NaN</td>\n",
       "      <td>NaN</td>\n",
       "      <td>NaN</td>\n",
       "      <td>NaN</td>\n",
       "      <td>NaN</td>\n",
       "      <td>NaN</td>\n",
       "    </tr>\n",
       "  </tbody>\n",
       "</table>\n",
       "<p>1447 rows × 31 columns</p>\n",
       "</div>"
      ],
      "text/plain": [
       "      Event.Id Investigation.Type Accident.Number Event.Date Location Country  \\\n",
       "64030      NaN         25-09-2020             NaN        NaN      NaN     NaN   \n",
       "64050      NaN         25-09-2020             NaN        NaN      NaN     NaN   \n",
       "64052      NaN         25-09-2020             NaN        NaN      NaN     NaN   \n",
       "64388      NaN         25-09-2020             NaN        NaN      NaN     NaN   \n",
       "64541      NaN         25-09-2020             NaN        NaN      NaN     NaN   \n",
       "...        ...                ...             ...        ...      ...     ...   \n",
       "90004      NaN         15-12-2022             NaN        NaN      NaN     NaN   \n",
       "90010      NaN         15-12-2022             NaN        NaN      NaN     NaN   \n",
       "90031      NaN         15-12-2022             NaN        NaN      NaN     NaN   \n",
       "90090      NaN         20-12-2022             NaN        NaN      NaN     NaN   \n",
       "90097      NaN         20-12-2022             NaN        NaN      NaN     NaN   \n",
       "\n",
       "      Latitude Longitude Airport.Code Airport.Name  ... Purpose.of.flight  \\\n",
       "64030      NaN       NaN          NaN          NaN  ...               NaN   \n",
       "64050      NaN       NaN          NaN          NaN  ...               NaN   \n",
       "64052      NaN       NaN          NaN          NaN  ...               NaN   \n",
       "64388      NaN       NaN          NaN          NaN  ...               NaN   \n",
       "64541      NaN       NaN          NaN          NaN  ...               NaN   \n",
       "...        ...       ...          ...          ...  ...               ...   \n",
       "90004      NaN       NaN          NaN          NaN  ...               NaN   \n",
       "90010      NaN       NaN          NaN          NaN  ...               NaN   \n",
       "90031      NaN       NaN          NaN          NaN  ...               NaN   \n",
       "90090      NaN       NaN          NaN          NaN  ...               NaN   \n",
       "90097      NaN       NaN          NaN          NaN  ...               NaN   \n",
       "\n",
       "      Air.carrier Total.Fatal.Injuries Total.Serious.Injuries  \\\n",
       "64030         NaN                  NaN                    NaN   \n",
       "64050         NaN                  NaN                    NaN   \n",
       "64052         NaN                  NaN                    NaN   \n",
       "64388         NaN                  NaN                    NaN   \n",
       "64541         NaN                  NaN                    NaN   \n",
       "...           ...                  ...                    ...   \n",
       "90004         NaN                  NaN                    NaN   \n",
       "90010         NaN                  NaN                    NaN   \n",
       "90031         NaN                  NaN                    NaN   \n",
       "90090         NaN                  NaN                    NaN   \n",
       "90097         NaN                  NaN                    NaN   \n",
       "\n",
       "      Total.Minor.Injuries Total.Uninjured Weather.Condition  \\\n",
       "64030                  NaN             NaN               NaN   \n",
       "64050                  NaN             NaN               NaN   \n",
       "64052                  NaN             NaN               NaN   \n",
       "64388                  NaN             NaN               NaN   \n",
       "64541                  NaN             NaN               NaN   \n",
       "...                    ...             ...               ...   \n",
       "90004                  NaN             NaN               NaN   \n",
       "90010                  NaN             NaN               NaN   \n",
       "90031                  NaN             NaN               NaN   \n",
       "90090                  NaN             NaN               NaN   \n",
       "90097                  NaN             NaN               NaN   \n",
       "\n",
       "       Broad.phase.of.flight Report.Status Publication.Date  \n",
       "64030                    NaN           NaN              NaN  \n",
       "64050                    NaN           NaN              NaN  \n",
       "64052                    NaN           NaN              NaN  \n",
       "64388                    NaN           NaN              NaN  \n",
       "64541                    NaN           NaN              NaN  \n",
       "...                      ...           ...              ...  \n",
       "90004                    NaN           NaN              NaN  \n",
       "90010                    NaN           NaN              NaN  \n",
       "90031                    NaN           NaN              NaN  \n",
       "90090                    NaN           NaN              NaN  \n",
       "90097                    NaN           NaN              NaN  \n",
       "\n",
       "[1447 rows x 31 columns]"
      ]
     },
     "execution_count": 301,
     "metadata": {},
     "output_type": "execute_result"
    }
   ],
   "source": [
    "df[df.duplicated(keep = False)].sort_values(by = 'Event.Id')          # 'keep = false' keeps the duplicates and 'sort_values' places them next to each other"
   ]
  },
  {
   "cell_type": "code",
   "execution_count": 302,
   "metadata": {},
   "outputs": [
    {
     "data": {
      "text/plain": [
       "(88958, 31)"
      ]
     },
     "execution_count": 302,
     "metadata": {},
     "output_type": "execute_result"
    }
   ],
   "source": [
    "# Before I start manipulating the dataset I copy it into a new dataframe and remove all the duplicated records\n",
    "\n",
    "clean_df = df.copy()\n",
    "clean_df = clean_df.drop_duplicates()\n",
    "clean_df.shape"
   ]
  },
  {
   "cell_type": "code",
   "execution_count": 303,
   "metadata": {},
   "outputs": [
    {
     "data": {
      "text/plain": [
       "False    88958\n",
       "dtype: int64"
      ]
     },
     "execution_count": 303,
     "metadata": {},
     "output_type": "execute_result"
    }
   ],
   "source": [
    "clean_df.duplicated().value_counts()      #confirm if there are any duplicates remaining"
   ]
  },
  {
   "cell_type": "markdown",
   "metadata": {},
   "source": [
    "The Event Id column seems to be a unique feature hence necessitates a check for any further duplicates in that column. Also check for any null values and drop them"
   ]
  },
  {
   "cell_type": "code",
   "execution_count": 304,
   "metadata": {},
   "outputs": [
    {
     "data": {
      "text/plain": [
       "False    87952\n",
       "True      1006\n",
       "dtype: int64"
      ]
     },
     "execution_count": 304,
     "metadata": {},
     "output_type": "execute_result"
    }
   ],
   "source": [
    "clean_df.duplicated(subset = 'Event.Id').value_counts()"
   ]
  },
  {
   "cell_type": "code",
   "execution_count": 305,
   "metadata": {},
   "outputs": [
    {
     "data": {
      "text/plain": [
       "(87952, 31)"
      ]
     },
     "execution_count": 305,
     "metadata": {},
     "output_type": "execute_result"
    }
   ],
   "source": [
    "clean_df.drop_duplicates(subset = 'Event.Id', inplace = True)\n",
    "clean_df.shape"
   ]
  },
  {
   "cell_type": "code",
   "execution_count": 306,
   "metadata": {},
   "outputs": [
    {
     "data": {
      "text/plain": [
       "(87951, 31)"
      ]
     },
     "execution_count": 306,
     "metadata": {},
     "output_type": "execute_result"
    }
   ],
   "source": [
    "#Check for any null values\n",
    "clean_df['Event.Id'].isna().sum()\n",
    "clean_df.dropna(subset = ['Event.Id'], inplace = True)\n",
    "clean_df.shape"
   ]
  },
  {
   "cell_type": "markdown",
   "metadata": {},
   "source": [
    "The Accident number also seems to be a unique feature\n"
   ]
  },
  {
   "cell_type": "code",
   "execution_count": 307,
   "metadata": {},
   "outputs": [
    {
     "data": {
      "text/plain": [
       "0"
      ]
     },
     "execution_count": 307,
     "metadata": {},
     "output_type": "execute_result"
    }
   ],
   "source": [
    "#Check all duplicates and nulls have been dropped\n",
    "\n",
    "clean_df.duplicated(subset = 'Accident.Number').value_counts()\n",
    "clean_df['Accident.Number'].isna().sum()"
   ]
  },
  {
   "cell_type": "markdown",
   "metadata": {},
   "source": [
    "### Check for null values"
   ]
  },
  {
   "cell_type": "code",
   "execution_count": 308,
   "metadata": {},
   "outputs": [
    {
     "name": "stdout",
     "output_type": "stream",
     "text": [
      "<class 'pandas.core.frame.DataFrame'>\n",
      "Int64Index: 87951 entries, 0 to 90347\n",
      "Data columns (total 31 columns):\n",
      " #   Column                  Non-Null Count  Dtype  \n",
      "---  ------                  --------------  -----  \n",
      " 0   Event.Id                87951 non-null  object \n",
      " 1   Investigation.Type      87951 non-null  object \n",
      " 2   Accident.Number         87951 non-null  object \n",
      " 3   Event.Date              87951 non-null  object \n",
      " 4   Location                87899 non-null  object \n",
      " 5   Country                 87729 non-null  object \n",
      " 6   Latitude                34212 non-null  object \n",
      " 7   Longitude               34203 non-null  object \n",
      " 8   Airport.Code            49601 non-null  object \n",
      " 9   Airport.Name            52117 non-null  object \n",
      " 10  Injury.Severity         86961 non-null  object \n",
      " 11  Aircraft.damage         84848 non-null  object \n",
      " 12  Aircraft.Category       32181 non-null  object \n",
      " 13  Registration.Number     86666 non-null  object \n",
      " 14  Make                    87888 non-null  object \n",
      " 15  Model                   87859 non-null  object \n",
      " 16  Amateur.Built           87851 non-null  object \n",
      " 17  Number.of.Engines       81924 non-null  float64\n",
      " 18  Engine.Type             80927 non-null  object \n",
      " 19  FAR.Description         31915 non-null  object \n",
      " 20  Schedule                12360 non-null  object \n",
      " 21  Purpose.of.flight       81829 non-null  object \n",
      " 22  Air.carrier             16533 non-null  object \n",
      " 23  Total.Fatal.Injuries    76684 non-null  float64\n",
      " 24  Total.Serious.Injuries  75629 non-null  float64\n",
      " 25  Total.Minor.Injuries    76191 non-null  float64\n",
      " 26  Total.Uninjured         82088 non-null  float64\n",
      " 27  Weather.Condition       83478 non-null  object \n",
      " 28  Broad.phase.of.flight   60837 non-null  object \n",
      " 29  Report.Status           81590 non-null  object \n",
      " 30  Publication.Date        72894 non-null  object \n",
      "dtypes: float64(5), object(26)\n",
      "memory usage: 21.5+ MB\n"
     ]
    }
   ],
   "source": [
    "clean_df.info()"
   ]
  },
  {
   "cell_type": "markdown",
   "metadata": {},
   "source": [
    "#### Dropping"
   ]
  },
  {
   "cell_type": "code",
   "execution_count": 309,
   "metadata": {},
   "outputs": [],
   "source": [
    "#Drop columns with too many missing values and those\n",
    "\n",
    "clean_df.drop(columns = ['Latitude', 'Longitude', 'Airport.Code', 'FAR.Description', 'Schedule', 'Air.carrier', 'Publication.Date'], inplace = True)"
   ]
  },
  {
   "cell_type": "code",
   "execution_count": 310,
   "metadata": {},
   "outputs": [
    {
     "data": {
      "text/plain": [
       "(87951, 24)"
      ]
     },
     "execution_count": 310,
     "metadata": {},
     "output_type": "execute_result"
    }
   ],
   "source": [
    "clean_df.shape"
   ]
  },
  {
   "cell_type": "code",
   "execution_count": 311,
   "metadata": {},
   "outputs": [],
   "source": [
    "clean_df.reset_index(drop = True, inplace = True)     #aligns the index properly with the new data after dropping columns and rows"
   ]
  },
  {
   "cell_type": "code",
   "execution_count": 312,
   "metadata": {},
   "outputs": [
    {
     "name": "stdout",
     "output_type": "stream",
     "text": [
      "<class 'pandas.core.frame.DataFrame'>\n",
      "RangeIndex: 87951 entries, 0 to 87950\n",
      "Data columns (total 24 columns):\n",
      " #   Column                  Non-Null Count  Dtype  \n",
      "---  ------                  --------------  -----  \n",
      " 0   Event.Id                87951 non-null  object \n",
      " 1   Investigation.Type      87951 non-null  object \n",
      " 2   Accident.Number         87951 non-null  object \n",
      " 3   Event.Date              87951 non-null  object \n",
      " 4   Location                87899 non-null  object \n",
      " 5   Country                 87729 non-null  object \n",
      " 6   Airport.Name            52117 non-null  object \n",
      " 7   Injury.Severity         86961 non-null  object \n",
      " 8   Aircraft.damage         84848 non-null  object \n",
      " 9   Aircraft.Category       32181 non-null  object \n",
      " 10  Registration.Number     86666 non-null  object \n",
      " 11  Make                    87888 non-null  object \n",
      " 12  Model                   87859 non-null  object \n",
      " 13  Amateur.Built           87851 non-null  object \n",
      " 14  Number.of.Engines       81924 non-null  float64\n",
      " 15  Engine.Type             80927 non-null  object \n",
      " 16  Purpose.of.flight       81829 non-null  object \n",
      " 17  Total.Fatal.Injuries    76684 non-null  float64\n",
      " 18  Total.Serious.Injuries  75629 non-null  float64\n",
      " 19  Total.Minor.Injuries    76191 non-null  float64\n",
      " 20  Total.Uninjured         82088 non-null  float64\n",
      " 21  Weather.Condition       83478 non-null  object \n",
      " 22  Broad.phase.of.flight   60837 non-null  object \n",
      " 23  Report.Status           81590 non-null  object \n",
      "dtypes: float64(5), object(19)\n",
      "memory usage: 16.1+ MB\n"
     ]
    }
   ],
   "source": [
    "clean_df.info()"
   ]
  },
  {
   "cell_type": "code",
   "execution_count": 313,
   "metadata": {},
   "outputs": [
    {
     "data": {
      "text/plain": [
       "Event.Id                      0\n",
       "Investigation.Type            0\n",
       "Accident.Number               0\n",
       "Event.Date                    0\n",
       "Location                     52\n",
       "Country                     222\n",
       "Airport.Name              35834\n",
       "Injury.Severity             990\n",
       "Aircraft.damage            3103\n",
       "Aircraft.Category         55770\n",
       "Registration.Number        1285\n",
       "Make                         63\n",
       "Model                        92\n",
       "Amateur.Built               100\n",
       "Number.of.Engines          6027\n",
       "Engine.Type                7024\n",
       "Purpose.of.flight          6122\n",
       "Total.Fatal.Injuries      11267\n",
       "Total.Serious.Injuries    12322\n",
       "Total.Minor.Injuries      11760\n",
       "Total.Uninjured            5863\n",
       "Weather.Condition          4473\n",
       "Broad.phase.of.flight     27114\n",
       "Report.Status              6361\n",
       "dtype: int64"
      ]
     },
     "execution_count": 313,
     "metadata": {},
     "output_type": "execute_result"
    }
   ],
   "source": [
    "clean_df.isna().sum()     #Check total null values by column"
   ]
  },
  {
   "cell_type": "code",
   "execution_count": 314,
   "metadata": {},
   "outputs": [
    {
     "data": {
      "text/plain": [
       "Landing        15320\n",
       "Takeoff        12404\n",
       "Cruise         10141\n",
       "Maneuvering     8052\n",
       "Approach        6389\n",
       "Climb           1995\n",
       "Descent         1870\n",
       "Taxi            1786\n",
       "Go-around       1345\n",
       "Standing         872\n",
       "Unknown          547\n",
       "Other            116\n",
       "Name: Broad.phase.of.flight, dtype: int64"
      ]
     },
     "execution_count": 314,
     "metadata": {},
     "output_type": "execute_result"
    }
   ],
   "source": [
    "clean_df['Broad.phase.of.flight'].value_counts()   "
   ]
  },
  {
   "cell_type": "markdown",
   "metadata": {},
   "source": [
    "The flight phase column has the most null values, the top non-null values have small gaps between them. This means imputing would exagerate a certain category by a lot hence it makes more sense to drop the missing values."
   ]
  },
  {
   "cell_type": "code",
   "execution_count": 315,
   "metadata": {},
   "outputs": [
    {
     "name": "stdout",
     "output_type": "stream",
     "text": [
      "<class 'pandas.core.frame.DataFrame'>\n",
      "Int64Index: 60823 entries, 0 to 62999\n",
      "Data columns (total 24 columns):\n",
      " #   Column                  Non-Null Count  Dtype  \n",
      "---  ------                  --------------  -----  \n",
      " 0   Event.Id                60823 non-null  object \n",
      " 1   Investigation.Type      60823 non-null  object \n",
      " 2   Accident.Number         60823 non-null  object \n",
      " 3   Event.Date              60823 non-null  object \n",
      " 4   Location                60823 non-null  object \n",
      " 5   Country                 60612 non-null  object \n",
      " 6   Airport.Name            36520 non-null  object \n",
      " 7   Injury.Severity         60823 non-null  object \n",
      " 8   Aircraft.damage         59447 non-null  object \n",
      " 9   Aircraft.Category       7300 non-null   object \n",
      " 10  Registration.Number     60804 non-null  object \n",
      " 11  Make                    60812 non-null  object \n",
      " 12  Model                   60793 non-null  object \n",
      " 13  Amateur.Built           60805 non-null  object \n",
      " 14  Number.of.Engines       59928 non-null  float64\n",
      " 15  Engine.Type             60442 non-null  object \n",
      " 16  Purpose.of.flight       59780 non-null  object \n",
      " 17  Total.Fatal.Injuries    50289 non-null  float64\n",
      " 18  Total.Serious.Injuries  49610 non-null  float64\n",
      " 19  Total.Minor.Injuries    50241 non-null  float64\n",
      " 20  Total.Uninjured         55860 non-null  float64\n",
      " 21  Weather.Condition       60771 non-null  object \n",
      " 22  Broad.phase.of.flight   60823 non-null  object \n",
      " 23  Report.Status           60823 non-null  object \n",
      "dtypes: float64(5), object(19)\n",
      "memory usage: 11.6+ MB\n"
     ]
    }
   ],
   "source": [
    "clean_df.dropna(subset = ['Broad.phase.of.flight','Location'], inplace = True)\n",
    "clean_df.shape\n",
    "\n",
    "clean_df.info()"
   ]
  },
  {
   "cell_type": "markdown",
   "metadata": {},
   "source": [
    "#### Imputing"
   ]
  },
  {
   "cell_type": "code",
   "execution_count": 316,
   "metadata": {},
   "outputs": [],
   "source": [
    "clean_df['Country'].fillna(clean_df['Country'].mode, inplace = True)\n",
    "clean_df['Airport.Name'].fillna('Outside Airport', inplace = True)\n",
    "clean_df['Injury.Severity'].fillna(clean_df['Injury.Severity'].mode, inplace = True)\n",
    "clean_df['Aircraft.damage'].fillna(clean_df['Aircraft.damage'].mode, inplace = True)\n",
    "clean_df['Registration.Number'].fillna('Unknown', inplace = True)\n",
    "clean_df['Make'].fillna(clean_df['Make'].mode, inplace = True)\n",
    "clean_df['Model'].fillna(clean_df['Model'].mode, inplace = True)\n",
    "clean_df['Amateur.Built'].fillna(clean_df['Amateur.Built'].mode, inplace = True)\n",
    "clean_df['Number.of.Engines'].fillna(clean_df['Number.of.Engines'].median(), inplace = True)\n",
    "clean_df['Engine.Type'].fillna('Unknown', inplace = True)\n",
    "clean_df['Purpose.of.flight'].fillna('Unknown', inplace = True)\n",
    "clean_df['Total.Fatal.Injuries'].fillna(clean_df['Total.Fatal.Injuries'].median(), inplace = True)\n",
    "clean_df['Total.Serious.Injuries'].fillna(clean_df['Total.Serious.Injuries'].median(), inplace = True)\n",
    "clean_df['Total.Minor.Injuries'].fillna(clean_df['Total.Minor.Injuries'].median(), inplace = True)\n",
    "clean_df['Total.Uninjured'].fillna(clean_df['Total.Uninjured'].median(), inplace = True)\n",
    "clean_df['Weather.Condition'].fillna(clean_df['Weather.Condition'].mode, inplace = True)"
   ]
  },
  {
   "cell_type": "code",
   "execution_count": 317,
   "metadata": {},
   "outputs": [
    {
     "data": {
      "text/plain": [
       "Event.Id                      0\n",
       "Investigation.Type            0\n",
       "Accident.Number               0\n",
       "Event.Date                    0\n",
       "Location                      0\n",
       "Country                       0\n",
       "Airport.Name                  0\n",
       "Injury.Severity               0\n",
       "Aircraft.damage               0\n",
       "Aircraft.Category         53523\n",
       "Registration.Number           0\n",
       "Make                          0\n",
       "Model                         0\n",
       "Amateur.Built                 0\n",
       "Number.of.Engines             0\n",
       "Engine.Type                   0\n",
       "Purpose.of.flight             0\n",
       "Total.Fatal.Injuries          0\n",
       "Total.Serious.Injuries        0\n",
       "Total.Minor.Injuries          0\n",
       "Total.Uninjured               0\n",
       "Weather.Condition             0\n",
       "Broad.phase.of.flight         0\n",
       "Report.Status                 0\n",
       "dtype: int64"
      ]
     },
     "execution_count": 317,
     "metadata": {},
     "output_type": "execute_result"
    }
   ],
   "source": [
    "clean_df.isna().sum()"
   ]
  },
  {
   "cell_type": "code",
   "execution_count": 318,
   "metadata": {},
   "outputs": [
    {
     "data": {
      "text/plain": [
       "Event.Id                      0\n",
       "Investigation.Type            0\n",
       "Accident.Number               0\n",
       "Event.Date                    0\n",
       "Location                      0\n",
       "Country                       0\n",
       "Airport.Name                  0\n",
       "Injury.Severity               0\n",
       "Aircraft.damage               0\n",
       "Aircraft.Category         13857\n",
       "Registration.Number           0\n",
       "Make                          0\n",
       "Model                         0\n",
       "Amateur.Built                 0\n",
       "Number.of.Engines             0\n",
       "Engine.Type                   0\n",
       "Purpose.of.flight             0\n",
       "Total.Fatal.Injuries          0\n",
       "Total.Serious.Injuries        0\n",
       "Total.Minor.Injuries          0\n",
       "Total.Uninjured               0\n",
       "Weather.Condition             0\n",
       "Broad.phase.of.flight         0\n",
       "Report.Status                 0\n",
       "dtype: int64"
      ]
     },
     "execution_count": 318,
     "metadata": {},
     "output_type": "execute_result"
    }
   ],
   "source": [
    "#Impute values into the aircraft category by referencing the make and model columns\n",
    "\n",
    "category_map = clean_df.dropna(subset=['Aircraft.Category']).set_index(['Make', 'Model'])['Aircraft.Category'].to_dict()\n",
    "\n",
    "clean_df['Aircraft.Category'] = clean_df.apply(\n",
    "    lambda row: category_map.get((row['Make'], row['Model']), row['Aircraft.Category']),\n",
    "    axis=1\n",
    ")\n",
    "clean_df.isna().sum()"
   ]
  },
  {
   "cell_type": "markdown",
   "metadata": {},
   "source": [
    "The remaining nulls can be filled up with the mode"
   ]
  },
  {
   "cell_type": "code",
   "execution_count": 319,
   "metadata": {},
   "outputs": [],
   "source": [
    "clean_df['Aircraft.Category'].fillna('Unknown', inplace = True)"
   ]
  },
  {
   "cell_type": "code",
   "execution_count": 320,
   "metadata": {},
   "outputs": [
    {
     "name": "stdout",
     "output_type": "stream",
     "text": [
      "<class 'pandas.core.frame.DataFrame'>\n",
      "Int64Index: 60823 entries, 0 to 62999\n",
      "Data columns (total 24 columns):\n",
      " #   Column                  Non-Null Count  Dtype  \n",
      "---  ------                  --------------  -----  \n",
      " 0   Event.Id                60823 non-null  object \n",
      " 1   Investigation.Type      60823 non-null  object \n",
      " 2   Accident.Number         60823 non-null  object \n",
      " 3   Event.Date              60823 non-null  object \n",
      " 4   Location                60823 non-null  object \n",
      " 5   Country                 60823 non-null  object \n",
      " 6   Airport.Name            60823 non-null  object \n",
      " 7   Injury.Severity         60823 non-null  object \n",
      " 8   Aircraft.damage         60823 non-null  object \n",
      " 9   Aircraft.Category       60823 non-null  object \n",
      " 10  Registration.Number     60823 non-null  object \n",
      " 11  Make                    60823 non-null  object \n",
      " 12  Model                   60823 non-null  object \n",
      " 13  Amateur.Built           60823 non-null  object \n",
      " 14  Number.of.Engines       60823 non-null  float64\n",
      " 15  Engine.Type             60823 non-null  object \n",
      " 16  Purpose.of.flight       60823 non-null  object \n",
      " 17  Total.Fatal.Injuries    60823 non-null  float64\n",
      " 18  Total.Serious.Injuries  60823 non-null  float64\n",
      " 19  Total.Minor.Injuries    60823 non-null  float64\n",
      " 20  Total.Uninjured         60823 non-null  float64\n",
      " 21  Weather.Condition       60823 non-null  object \n",
      " 22  Broad.phase.of.flight   60823 non-null  object \n",
      " 23  Report.Status           60823 non-null  object \n",
      "dtypes: float64(5), object(19)\n",
      "memory usage: 11.6+ MB\n"
     ]
    }
   ],
   "source": [
    "clean_df.info()"
   ]
  },
  {
   "cell_type": "code",
   "execution_count": 321,
   "metadata": {},
   "outputs": [
    {
     "data": {
      "text/plain": [
       "Event.Id                   object\n",
       "Investigation.Type         object\n",
       "Accident.Number            object\n",
       "Event.Date                 object\n",
       "Location                   object\n",
       "Country                    object\n",
       "Airport.Name               object\n",
       "Injury.Severity            object\n",
       "Aircraft.damage            object\n",
       "Aircraft.Category          object\n",
       "Registration.Number        object\n",
       "Make                       object\n",
       "Model                      object\n",
       "Amateur.Built              object\n",
       "Number.of.Engines         float64\n",
       "Engine.Type                object\n",
       "Purpose.of.flight          object\n",
       "Total.Fatal.Injuries      float64\n",
       "Total.Serious.Injuries    float64\n",
       "Total.Minor.Injuries      float64\n",
       "Total.Uninjured           float64\n",
       "Weather.Condition          object\n",
       "Broad.phase.of.flight      object\n",
       "Report.Status              object\n",
       "dtype: object"
      ]
     },
     "execution_count": 321,
     "metadata": {},
     "output_type": "execute_result"
    }
   ],
   "source": [
    "clean_df.dtypes"
   ]
  },
  {
   "cell_type": "markdown",
   "metadata": {},
   "source": [
    "### Check for any extrenous values"
   ]
  },
  {
   "cell_type": "code",
   "execution_count": 322,
   "metadata": {},
   "outputs": [
    {
     "name": "stdout",
     "output_type": "stream",
     "text": [
      "False\n",
      "False\n",
      "False\n",
      "False\n",
      "False\n",
      "True\n",
      "False\n",
      "False\n",
      "True\n",
      "False\n",
      "False\n",
      "True\n",
      "True\n",
      "True\n",
      "False\n",
      "False\n",
      "False\n",
      "False\n",
      "False\n",
      "False\n",
      "False\n",
      "True\n",
      "False\n",
      "False\n"
     ]
    }
   ],
   "source": [
    "# Check if values in the same column are of the same datatype\n",
    "for col in clean_df:\n",
    "    print(clean_df[col].apply(type).nunique() > 1)"
   ]
  },
  {
   "cell_type": "code",
   "execution_count": 323,
   "metadata": {},
   "outputs": [],
   "source": [
    "clean_df['Country'] = clean_df['Country'].astype(str)\n",
    "clean_df['Aircraft.damage'] = clean_df['Aircraft.damage'].astype(str)\n",
    "clean_df['Aircraft.Category'] = clean_df['Aircraft.Category'].astype(str)\n",
    "clean_df['Make'] = clean_df['Make'].astype(str)\n",
    "clean_df['Model'] = clean_df['Model'].astype(str)\n",
    "clean_df['Amateur.Built'] = clean_df['Amateur.Built'].astype(str)\n",
    "clean_df['Number.of.Engines'] = clean_df['Number.of.Engines'].astype(float)   \n",
    "clean_df['Engine.Type'] = clean_df['Engine.Type'].astype(str)                       \n",
    "clean_df['Purpose.of.flight'] = clean_df['Purpose.of.flight'].astype(str)  \n",
    "clean_df['Weather.Condition'] = clean_df['Weather.Condition'].astype(str)\n"
   ]
  },
  {
   "cell_type": "code",
   "execution_count": 324,
   "metadata": {},
   "outputs": [
    {
     "name": "stdout",
     "output_type": "stream",
     "text": [
      "Event.Id \n",
      " 20001207X04213    1\n",
      "20001208X06422    1\n",
      "20001211X09589    1\n",
      "20001211X10025    1\n",
      "20070717X00948    1\n",
      "Name: Event.Id, dtype: int64 \n",
      "\n",
      "Investigation.Type \n",
      " Accident    59011\n",
      "Incident     1812\n",
      "Name: Investigation.Type, dtype: int64 \n",
      "\n",
      "Accident.Number \n",
      " SEA06CA102    1\n",
      "FTW98FA316    1\n",
      "CHI86FEM01    1\n",
      "CHI03LA157    1\n",
      "NYC91LA007    1\n",
      "Name: Accident.Number, dtype: int64 \n",
      "\n",
      "Event.Date \n",
      " 1982-05-16    25\n",
      "1984-06-30    25\n",
      "1983-06-05    24\n",
      "1984-08-25    23\n",
      "1983-08-05    23\n",
      "Name: Event.Date, dtype: int64 \n",
      "\n",
      "Location \n",
      " ANCHORAGE, AK      421\n",
      "MIAMI, FL          194\n",
      "ALBUQUERQUE, NM    189\n",
      "HOUSTON, TX        184\n",
      "FAIRBANKS, AK      170\n",
      "Name: Location, dtype: int64 \n",
      "\n",
      "Country \n",
      " United States                                                                                                                                                                                                                                                                                                                                        60273\n",
      "<bound method Series.mode of 0        United States\\n1        United States\\n2        United States\\n3        United States\\n4        United States\\n             ...      \\n62995    United States\\n62996    United States\\n62997    United States\\n62998    United States\\n62999    United States\\nName: Country, Length: 60823, dtype: object>      211\n",
      "ATLANTIC OCEAN                                                                                                                                                                                                                                                                                                                                          74\n",
      "Puerto Rico                                                                                                                                                                                                                                                                                                                                             69\n",
      "PACIFIC OCEAN                                                                                                                                                                                                                                                                                                                                           45\n",
      "Name: Country, dtype: int64 \n",
      "\n",
      "Airport.Name \n",
      " Outside Airport     24303\n",
      "PRIVATE               212\n",
      "NONE                  128\n",
      "PRIVATE STRIP         111\n",
      "PRIVATE AIRSTRIP       89\n",
      "Name: Airport.Name, dtype: int64 \n",
      "\n",
      "Injury.Severity \n",
      " Non-Fatal    47656\n",
      "Fatal(1)      5840\n",
      "Fatal(2)      3407\n",
      "Incident      1812\n",
      "Fatal(3)       993\n",
      "Name: Injury.Severity, dtype: int64 \n",
      "\n",
      "Aircraft.damage \n",
      " Substantial                                                                                                                                                                                                                                                                                                                            43176\n",
      "Destroyed                                                                                                                                                                                                                                                                                                                              14672\n",
      "Minor                                                                                                                                                                                                                                                                                                                                   1599\n",
      "<bound method Series.mode of 0          Destroyed\\n1          Destroyed\\n2          Destroyed\\n3          Destroyed\\n4          Destroyed\\n            ...     \\n62995      Destroyed\\n62996    Substantial\\n62997    Substantial\\n62998    Substantial\\n62999    Substantial\\nName: Aircraft.damage, Length: 60823, dtype: object>     1376\n",
      "Name: Aircraft.damage, dtype: int64 \n",
      "\n",
      "Aircraft.Category \n",
      " Airplane      42510\n",
      "Unknown       13858\n",
      "Helicopter     3841\n",
      "Glider          359\n",
      "Balloon         183\n",
      "Name: Aircraft.Category, dtype: int64 \n",
      "\n",
      "Registration.Number \n",
      " NONE       339\n",
      "None        65\n",
      "Unknown     20\n",
      "N20752       8\n",
      "USAF         6\n",
      "Name: Registration.Number, dtype: int64 \n",
      "\n",
      "Make \n",
      " Cessna    20412\n",
      "Piper     11032\n",
      "Beech      3934\n",
      "Bell       1850\n",
      "Boeing     1077\n",
      "Name: Make, dtype: int64 \n",
      "\n",
      "Model \n",
      " 152          2060\n",
      "172          1002\n",
      "172N          956\n",
      "PA-28-140     787\n",
      "150           655\n",
      "Name: Model, dtype: int64 \n",
      "\n",
      "Amateur.Built \n",
      " No                                                                                                                                                                                                                                           55300\n",
      "Yes                                                                                                                                                                                                                                           5505\n",
      "<bound method Series.mode of 0         No\\n1         No\\n2         No\\n3         No\\n4         No\\n        ... \\n62995     No\\n62996     No\\n62997     No\\n62998    Yes\\n62999     No\\nName: Amateur.Built, Length: 60823, dtype: object>       18\n",
      "Name: Amateur.Built, dtype: int64 \n",
      "\n",
      "Number.of.Engines \n",
      " 1.0    51509\n",
      "2.0     7872\n",
      "0.0      729\n",
      "3.0      406\n",
      "4.0      307\n",
      "Name: Number.of.Engines, dtype: int64 \n",
      "\n",
      "Engine.Type \n",
      " Reciprocating    52462\n",
      "Turbo Shaft       2516\n",
      "Turbo Prop        2175\n",
      "Unknown           1628\n",
      "Turbo Fan         1493\n",
      "Name: Engine.Type, dtype: int64 \n",
      "\n",
      "Purpose.of.flight \n",
      " Personal              35125\n",
      "Instructional          7545\n",
      "Unknown                6757\n",
      "Aerial Application     3603\n",
      "Business               3329\n",
      "Name: Purpose.of.flight, dtype: int64 \n",
      "\n",
      "Total.Fatal.Injuries \n",
      " 0.0    49457\n",
      "1.0     5855\n",
      "2.0     3408\n",
      "3.0      993\n",
      "4.0      684\n",
      "Name: Total.Fatal.Injuries, dtype: int64 \n",
      "\n",
      "Total.Serious.Injuries \n",
      " 0.0    52359\n",
      "1.0     6150\n",
      "2.0     1714\n",
      "3.0      377\n",
      "4.0      142\n",
      "Name: Total.Serious.Injuries, dtype: int64 \n",
      "\n",
      "Total.Minor.Injuries \n",
      " 0.0    49159\n",
      "1.0     7578\n",
      "2.0     2868\n",
      "3.0      619\n",
      "4.0      283\n",
      "Name: Total.Minor.Injuries, dtype: int64 \n",
      "\n",
      "Total.Uninjured \n",
      " 1.0    23135\n",
      "0.0    18382\n",
      "2.0    11221\n",
      "3.0     3085\n",
      "4.0     1980\n",
      "Name: Total.Uninjured, dtype: int64 \n",
      "\n",
      "Weather.Condition \n",
      " VMC                                                                                                                                                                                                                                              55543\n",
      "IMC                                                                                                                                                                                                                                               4688\n",
      "UNK                                                                                                                                                                                                                                                540\n",
      "<bound method Series.mode of 0        UNK\\n1        UNK\\n2        IMC\\n3        IMC\\n4        VMC\\n        ... \\n62995    IMC\\n62996    VMC\\n62997    VMC\\n62998    VMC\\n62999    VMC\\nName: Weather.Condition, Length: 60823, dtype: object>       52\n",
      "Name: Weather.Condition, dtype: int64 \n",
      "\n",
      "Broad.phase.of.flight \n",
      " Landing        15318\n",
      "Takeoff        12404\n",
      "Cruise         10139\n",
      "Maneuvering     8049\n",
      "Approach        6389\n",
      "Name: Broad.phase.of.flight, dtype: int64 \n",
      "\n",
      "Report.Status \n",
      " Probable Cause    60820\n",
      "Foreign               3\n",
      "Name: Report.Status, dtype: int64 \n",
      "\n"
     ]
    }
   ],
   "source": [
    "#check further for any hidden extrenous values\n",
    "for col in clean_df:\n",
    "    print(col, '\\n',clean_df[col].value_counts().head(), '\\n')\n"
   ]
  },
  {
   "cell_type": "code",
   "execution_count": 325,
   "metadata": {},
   "outputs": [
    {
     "name": "stdout",
     "output_type": "stream",
     "text": [
      "<class 'pandas.core.frame.DataFrame'>\n",
      "Int64Index: 60823 entries, 0 to 62999\n",
      "Data columns (total 24 columns):\n",
      " #   Column                  Non-Null Count  Dtype  \n",
      "---  ------                  --------------  -----  \n",
      " 0   Event.Id                60823 non-null  object \n",
      " 1   Investigation.Type      60823 non-null  object \n",
      " 2   Accident.Number         60823 non-null  object \n",
      " 3   Event.Date              60823 non-null  object \n",
      " 4   Location                60823 non-null  object \n",
      " 5   Country                 60823 non-null  object \n",
      " 6   Airport.Name            60823 non-null  object \n",
      " 7   Injury.Severity         60823 non-null  object \n",
      " 8   Aircraft.damage         60823 non-null  object \n",
      " 9   Aircraft.Category       60823 non-null  object \n",
      " 10  Registration.Number     60823 non-null  object \n",
      " 11  Make                    60823 non-null  object \n",
      " 12  Model                   60823 non-null  object \n",
      " 13  Amateur.Built           60823 non-null  object \n",
      " 14  Number.of.Engines       60823 non-null  float64\n",
      " 15  Engine.Type             60823 non-null  object \n",
      " 16  Purpose.of.flight       60823 non-null  object \n",
      " 17  Total.Fatal.Injuries    60823 non-null  float64\n",
      " 18  Total.Serious.Injuries  60823 non-null  float64\n",
      " 19  Total.Minor.Injuries    60823 non-null  float64\n",
      " 20  Total.Uninjured         60823 non-null  float64\n",
      " 21  Weather.Condition       60823 non-null  object \n",
      " 22  Broad.phase.of.flight   60823 non-null  object \n",
      " 23  Report.Status           60823 non-null  object \n",
      "dtypes: float64(5), object(19)\n",
      "memory usage: 11.6+ MB\n"
     ]
    }
   ],
   "source": [
    "clean_df.info()"
   ]
  },
  {
   "cell_type": "markdown",
   "metadata": {},
   "source": [
    "The dataset is now clean and ready to be modeled"
   ]
  },
  {
   "cell_type": "code",
   "execution_count": 326,
   "metadata": {},
   "outputs": [],
   "source": [
    "#convert to csv to upload to Github and excel to use in tableau visualizations (I have commented the code out so it doesn't create new files every time I run the code) \n",
    "\n",
    "# clean_df.to_csv('/data/cleaned_aviation_data.csv', index = False)\n",
    "# clean_df.to_excel('cleaned_aviation_data.xlsx', index = False)"
   ]
  },
  {
   "cell_type": "markdown",
   "metadata": {},
   "source": [
    "## Data Modeling\n",
    "\n",
    "I did some simple models to get an overview of the accidents in the aviation industry\n",
    "\n",
    "I did more business specific visualizations in tableau which I have linked in the readme file since they are too large to be included here"
   ]
  },
  {
   "cell_type": "code",
   "execution_count": 327,
   "metadata": {},
   "outputs": [
    {
     "data": {
      "image/png": "[encoded data removed]",
      "text/plain": [
       "<Figure size 504x360 with 1 Axes>"
      ]
     },
     "metadata": {
      "needs_background": "light"
     },
     "output_type": "display_data"
    }
   ],
   "source": [
    "plt.figure(figsize = (7,5))\n",
    "plt.bar(clean_df['Investigation.Type'].value_counts().index, clean_df['Investigation.Type'].value_counts().values)\n",
    "plt.title('Aircraft Events by Type')\n",
    "plt.xlabel('Type')\n",
    "plt.ylabel('Occurrences');"
   ]
  },
  {
   "cell_type": "markdown",
   "metadata": {},
   "source": [
    "Most aircraft events are accidents"
   ]
  },
  {
   "cell_type": "code",
   "execution_count": 328,
   "metadata": {},
   "outputs": [
    {
     "data": {
      "image/png": "[encoded data removed]",
      "text/plain": [
       "<Figure size 864x432 with 1 Axes>"
      ]
     },
     "metadata": {
      "needs_background": "light"
     },
     "output_type": "display_data"
    }
   ],
   "source": [
    "clean_df['Event.Date'] = pd.to_datetime(clean_df['Event.Date'], errors = 'coerce')\n",
    "clean_df['Year'] = clean_df['Event.Date'].dt.year\n",
    "accidents = clean_df['Year'].value_counts().sort_index()    #count accidents per year\n",
    "\n",
    "plt.figure(figsize=(12, 6))  # Set figure size\n",
    "plt.plot(accidents.index, accidents.values, marker='o', linestyle='-', color='b', label=\"Accidents\")\n",
    "\n",
    "# Add labels and title\n",
    "plt.xlabel(\"Year\")\n",
    "plt.ylabel(\"Number of Accidents\")\n",
    "plt.title(\"Aviation Accidents Per Year\")\n",
    "plt.grid(True)  # Add grid lines\n",
    "plt.legend()  # Show legend\n",
    "\n",
    "# Show the plot\n",
    "plt.show()"
   ]
  },
  {
   "cell_type": "markdown",
   "metadata": {},
   "source": [
    "Aircraft accidents shot up sharply in the early 1980's but have been gradually decreasing"
   ]
  },
  {
   "cell_type": "code",
   "execution_count": 329,
   "metadata": {},
   "outputs": [
    {
     "data": {
      "image/png": "[encoded data removed]",
      "text/plain": [
       "<Figure size 864x432 with 1 Axes>"
      ]
     },
     "metadata": {
      "needs_background": "light"
     },
     "output_type": "display_data"
    }
   ],
   "source": [
    "accident_by_phase = clean_df['Broad.phase.of.flight'].value_counts()\n",
    "\n",
    "plt.figure(figsize=(12, 6))  # Set figure size\n",
    "accident_by_phase.plot(kind='bar', color='skyblue', edgecolor='black')\n",
    "\n",
    "# Add labels and title\n",
    "plt.xlabel(\"Broad Phase of Flight\")\n",
    "plt.ylabel(\"Number of Accidents\")\n",
    "plt.title(\"Aviation Accidents by Broad Phase of Flight\")\n",
    "plt.xticks(rotation=45, ha='right')  # Rotate x-axis labels for readability\n",
    "plt.grid(axis='y', linestyle='--', alpha=0.7);  # Add grid for better readability"
   ]
  },
  {
   "cell_type": "markdown",
   "metadata": {},
   "source": [
    "Most accidents occur during landing"
   ]
  },
  {
   "cell_type": "code",
   "execution_count": 330,
   "metadata": {},
   "outputs": [
    {
     "data": {
      "image/png": "[encoded data removed]",
      "text/plain": [
       "<Figure size 1080x504 with 1 Axes>"
      ]
     },
     "metadata": {
      "needs_background": "light"
     },
     "output_type": "display_data"
    }
   ],
   "source": [
    "aircrafts = clean_df['Aircraft.Category'].value_counts()\n",
    "makes = clean_df['Make'].value_counts()\n",
    "models = clean_df['Model'].value_counts()\n",
    "\n",
    "fig, ax = plt.subplots(figsize = (15,7))\n",
    "\n",
    "ax.bar(aircrafts.index, aircrafts.values);\n",
    "\n"
   ]
  },
  {
   "cell_type": "markdown",
   "metadata": {},
   "source": [
    "Airplanes have the most accidents. However this is not due to them being unsafe but due to the fact that they are heavily far more than the other categories.\n",
    "\n",
    "This is also why I checked for the aircraft types with more accidents because they have data about their usage to make good business recomendations to the client"
   ]
  },
  {
   "cell_type": "markdown",
   "metadata": {},
   "source": [
    "## Evaluation\n",
    "\n",
    "From the results there are three concrete recommendations I can make for aircraft purchase based on make, model and engine type:\n",
    "\n",
    "Make: Boeing, Mcdonnell Douglas and Lockheed\n",
    "\n",
    "Model: Based on the above three, the safest models are: Boeing 747-200, 737-300 and 727. \n",
    "                                                        Mcdonnell Douglas MD-88, DC-10-30 and DC-9-51.\n",
    "                                                        Lockheed L-1011, L-1011-385-3 and L-1011-385\n",
    "\n",
    "Engine: The best engines for aircraft are 'Turbo fan' and 'Turbo jet'"
   ]
  },
  {
   "cell_type": "markdown",
   "metadata": {},
   "source": [
    "## Conclusion\n",
    "\n",
    "I would recommend the business to purchase aircraft based on the above three guidelines\n",
    "\n",
    "My analysis may not fully solve the problem since there are still too many variables involved that were not reflected in the dataset.\n",
    "\n",
    "In future I could build a machine learning algorithm that takes into account all variables to better predict the safe kind of aircraft."
   ]
  }
 ],
 "metadata": {
  "kernelspec": {
   "display_name": "learn-env",
   "language": "python",
   "name": "python3"
  },
  "language_info": {
   "codemirror_mode": {
    "name": "ipython",
    "version": 3
   },
   "file_extension": ".py",
   "mimetype": "text/x-python",
   "name": "python",
   "nbconvert_exporter": "python",
   "pygments_lexer": "ipython3",
   "version": "3.8.5"
  }
 },
 "nbformat": 4,
 "nbformat_minor": 2
}
